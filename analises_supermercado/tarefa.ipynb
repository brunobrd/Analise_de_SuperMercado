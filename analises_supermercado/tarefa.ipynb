{
 "cells": [
  {
   "cell_type": "code",
   "execution_count": 5,
   "metadata": {},
   "outputs": [
    {
     "name": "stdout",
     "output_type": "stream",
     "text": [
      "   TransactionID  CustomerID   Item    Category  Quantity  Price  \\\n",
      "0              1        1001   Maçã      Frutas         3    2.5   \n",
      "1              2        1002    Pão     Padaria         1    3.0   \n",
      "2              3        1003  Arroz       Grãos         2    5.0   \n",
      "3              4        1001  Leite  Laticínios         1    4.0   \n",
      "4              5        1004  Carne     Bovinos         1   20.0   \n",
      "\n",
      "  TransactionDate TransactionTime   DiasDaSemana  Transações_por_hora  \n",
      "0      2024-09-01        09:15:00        domingo                    9  \n",
      "1      2024-09-01        11:45:00        domingo                   11  \n",
      "2      2024-09-01        14:30:00        domingo                   14  \n",
      "3      2024-09-02        16:00:00  segunda-feira                   16  \n",
      "4      2024-09-02        18:15:00  segunda-feira                   18  \n"
     ]
    }
   ],
   "source": [
    "import pandas as pd\n",
    "df = pd.read_excel(r\"C:\\Users\\bruno\\Downloads\\desafio_Transações_SuperMercado.xlsx\")\n",
    "\n",
    "print(df.head())"
   ]
  },
  {
   "cell_type": "code",
   "execution_count": 6,
   "metadata": {},
   "outputs": [
    {
     "name": "stdout",
     "output_type": "stream",
     "text": [
      "O Item mais comprado foi: Cerveja\n"
     ]
    }
   ],
   "source": [
    "item_mais_comprado= df.groupby('Item')['Quantity'].sum().idxmax()\n",
    "\n",
    "print(f\"O Item mais comprado foi: {item_mais_comprado}\")"
   ]
  },
  {
   "cell_type": "code",
   "execution_count": 7,
   "metadata": {},
   "outputs": [
    {
     "name": "stdout",
     "output_type": "stream",
     "text": [
      "O dia da semana com mais vendas foi: Tuesday\n"
     ]
    }
   ],
   "source": [
    "df['transactionDate'] = pd.to_datetime(df['TransactionDate'])\n",
    "df['day_of_week'] = df['transactionDate'].dt.day_name()\n",
    "dia_com_mais_transacoes = df['day_of_week'].value_counts().idxmax()\n",
    "\n",
    "print(f\"O dia da semana com mais vendas foi: {dia_com_mais_transacoes}\")"
   ]
  },
  {
   "cell_type": "code",
   "execution_count": 8,
   "metadata": {},
   "outputs": [
    {
     "name": "stdout",
     "output_type": "stream",
     "text": [
      "Category\n",
      "Bebidas       24.0\n",
      "Bovinos       20.0\n",
      "Frutas        26.5\n",
      "Grãos         10.0\n",
      "Laticínios    19.0\n",
      "Padaria        3.0\n",
      "Name: total_sales, dtype: float64\n"
     ]
    }
   ],
   "source": [
    "df['total_sales'] = df['Price'] * df['Quantity']\n",
    "total_por_categorya = df.groupby('Category')['total_sales'].sum()\n",
    "\n",
    "print(total_por_categorya)"
   ]
  },
  {
   "cell_type": "code",
   "execution_count": 11,
   "metadata": {},
   "outputs": [
    {
     "name": "stdout",
     "output_type": "stream",
     "text": [
      "O cliente com maior gasto foi o: 1004\n"
     ]
    }
   ],
   "source": [
    "cliente_com_maior_gasto = df.groupby('CustomerID')['total_sales'].sum().idxmax()\n",
    "\n",
    "print(f\"O cliente com maior gasto foi o: {cliente_com_maior_gasto}\")"
   ]
  },
  {
   "cell_type": "code",
   "execution_count": 15,
   "metadata": {},
   "outputs": [
    {
     "data": {
      "image/png": "[encoded data removed]",
      "text/plain": [
       "<Figure size 640x480 with 1 Axes>"
      ]
     },
     "metadata": {},
     "output_type": "display_data"
    }
   ],
   "source": [
    "import matplotlib.pyplot as plt\n",
    "import seaborn as sns\n",
    "\n",
    "\n",
    "\n",
    "sns.histplot(df['Transações_por_hora'], bins=24)\n",
    "plt.title(\"Transações por hora\")\n",
    "plt.show()\n"
   ]
  },
  {
   "cell_type": "code",
   "execution_count": 30,
   "metadata": {},
   "outputs": [
    {
     "name": "stdout",
     "output_type": "stream",
     "text": [
      "A média de gastos por transação foi: 10.25\n"
     ]
    }
   ],
   "source": [
    "media_por_gasto = df['total_sales'].mean()\n",
    "\n",
    "print(f\"A média de gastos por transação foi: {media_por_gasto}\")"
   ]
  }
 ],
 "metadata": {
  "kernelspec": {
   "display_name": ".venv",
   "language": "python",
   "name": "python3"
  },
  "language_info": {
   "codemirror_mode": {
    "name": "ipython",
    "version": 3
   },
   "file_extension": ".py",
   "mimetype": "text/x-python",
   "name": "python",
   "nbconvert_exporter": "python",
   "pygments_lexer": "ipython3",
   "version": "3.12.1"
  }
 },
 "nbformat": 4,
 "nbformat_minor": 2
}
